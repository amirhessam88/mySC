{
 "cells": [
  {
   "cell_type": "code",
   "execution_count": 1,
   "metadata": {},
   "outputs": [],
   "source": [
    "# A.T. 3-June-2016\n",
    "# integral.ipynb"
   ]
  },
  {
   "cell_type": "markdown",
   "metadata": {},
   "source": [
    "# Here is the implemetation of different integration algorithm. I have used $f(x) = exp(-x^2)$ in $[-1,1]$ with $N = 100$ as the test function."
   ]
  },
  {
   "cell_type": "markdown",
   "metadata": {},
   "source": [
    "# ClenShaw"
   ]
  },
  {
   "cell_type": "code",
   "execution_count": 11,
   "metadata": {},
   "outputs": [],
   "source": [
    "# loading libraries\n",
    "import numpy as np\n",
    "import matplotlib.pyplot as plt\n",
    "from scipy.linalg import solve\n",
    "import math\n",
    "from scipy import integrate\n",
    "\n",
    "# test function definition\n",
    "\n",
    "def F(x):\n",
    "    return np.exp(-x**2)"
   ]
  },
  {
   "cell_type": "code",
   "execution_count": 12,
   "metadata": {},
   "outputs": [],
   "source": [
    "# Function\n",
    "\n",
    "def ClenShaw(func, a, b, N) :\n",
    "    c = np.zeros([2 , 2*N -2])\n",
    "    c[0][0] = 2.0\n",
    "    c[1][1] = 1.0\n",
    "    c[1][-1] = 1.0\n",
    "    \n",
    "    for i in np.arange(2, N, 2):\n",
    "        val = 2.0/(1 - pow(i,2))\n",
    "        c[0][i] = val\n",
    "        c[0][2*N - 2 -i] = val\n",
    "        \n",
    "    f = np.real(np.fft.ifft(c))\n",
    "    w = f[0][:N] ; w[0] *= 0.5 ; w[-1] *= 0.5\n",
    "    x = 0.5 * ((b+a) + (N-1)*(b-a) * f[1][:N])\n",
    "\n",
    "    return np.dot(w, func(x)) * (b-a)\n",
    "\n",
    "# f\n",
    "def F(x):\n",
    "    return np.exp(-x**2)"
   ]
  },
  {
   "cell_type": "code",
   "execution_count": 18,
   "metadata": {},
   "outputs": [
    {
     "data": {
      "text/plain": [
       "1.493648265624854"
      ]
     },
     "execution_count": 18,
     "metadata": {},
     "output_type": "execute_result"
    }
   ],
   "source": [
    "ClenShaw(F,-1,1,100)"
   ]
  },
  {
   "cell_type": "markdown",
   "metadata": {},
   "source": [
    "# Romberg"
   ]
  },
  {
   "cell_type": "code",
   "execution_count": 27,
   "metadata": {},
   "outputs": [
    {
     "name": "stdout",
     "output_type": "stream",
     "text": [
      "Step = 1, Romberg = 0.9810118431238463, Norm = 0.6259418431238463\n",
      "Step = 2, Romberg = 1.6725764390414224, Norm = 1.3175064390414224\n",
      "Step = 4, Romberg = 1.4986904110563137, Norm = 1.1436204110563137\n",
      "Step = 8, Romberg = 1.494085657829002, Norm = 1.139015657829002\n",
      "Step = 16, Romberg = 1.4936947275902388, Norm = 1.1386247275902388\n",
      "Step = 32, Romberg = 1.4936536420089968, Norm = 1.1385836420089968\n",
      "Step = 64, Romberg = 1.4936489128556556, Norm = 1.1385789128556556\n",
      "Step = 128, Romberg = 1.4936483450391354, Norm = 1.1385783450391354\n",
      "Step = 256, Romberg = 1.4936482754603866, Norm = 1.1385782754603866\n",
      "Step = 512, Romberg = 1.4936482668486502, Norm = 1.1385782668486502\n",
      "Step = 1024, Romberg = 1.4936482657774774, Norm = 1.1385782657774774\n",
      "Step = 2048, Romberg = 1.4936482656439236, Norm = 1.1385782656439236\n",
      "Step = 4096, Romberg = 1.4936482656272287, Norm = 1.1385782656272287\n",
      "Step = 8192, Romberg = 1.4936482656251466, Norm = 1.1385782656251466\n",
      "Step = 16384, Romberg = 1.4936482656248922, Norm = 1.1385782656248922\n",
      "Step = 32768, Romberg = 1.4936482656248475, Norm = 1.1385782656248475\n",
      "Step = 65536, Romberg = 1.4936482656248484, Norm = 1.1385782656248484\n",
      "Step = 131072, Romberg = 1.4936482656248846, Norm = 1.1385782656248846\n",
      "Step = 262144, Romberg = 1.4936482656248116, Norm = 1.1385782656248116\n",
      "Step = 524288, Romberg = 1.4936482656248506, Norm = 1.1385782656248506\n",
      "Step = 1048576, Romberg = 1.493648265624812, Norm = 1.138578265624812\n",
      "Step = 2097152, Romberg = 1.4936482656247552, Norm = 1.1385782656247552\n",
      "Step = 4194304, Romberg = 1.4936482656249885, Norm = 1.1385782656249885\n",
      "Step = 8388608, Romberg = 1.4936482656249868, Norm = 1.1385782656249868\n",
      "Step = 16777216, Romberg = 1.4936482656242656, Norm = 1.1385782656242656\n",
      "Step = 33554432, Romberg = 1.4936482656251722, Norm = 1.1385782656251722\n",
      "Step = 67108864, Romberg = 1.4936482656245518, Norm = 1.1385782656245518\n"
     ]
    },
    {
     "ename": "KeyboardInterrupt",
     "evalue": "",
     "output_type": "error",
     "traceback": [
      "\u001b[0;31m---------------------------------------------------------------------------\u001b[0m",
      "\u001b[0;31mKeyboardInterrupt\u001b[0m                         Traceback (most recent call last)",
      "\u001b[0;32m<ipython-input-27-d934818a43e3>\u001b[0m in \u001b[0;36m<module>\u001b[0;34m()\u001b[0m\n\u001b[1;32m     16\u001b[0m     \u001b[0my2\u001b[0m \u001b[0;34m=\u001b[0m \u001b[0mF\u001b[0m\u001b[0;34m(\u001b[0m\u001b[0mx2\u001b[0m\u001b[0;34m)\u001b[0m\u001b[0;34m\u001b[0m\u001b[0;34m\u001b[0m\u001b[0m\n\u001b[1;32m     17\u001b[0m     \u001b[0;31m# Calculating Trapezoid for multisteps\u001b[0m\u001b[0;34m\u001b[0m\u001b[0;34m\u001b[0m\u001b[0;34m\u001b[0m\u001b[0m\n\u001b[0;32m---> 18\u001b[0;31m     \u001b[0mI\u001b[0m \u001b[0;34m=\u001b[0m \u001b[0mintegrate\u001b[0m\u001b[0;34m.\u001b[0m\u001b[0mcumtrapz\u001b[0m\u001b[0;34m(\u001b[0m\u001b[0my1\u001b[0m\u001b[0;34m,\u001b[0m \u001b[0mx1\u001b[0m\u001b[0;34m,\u001b[0m \u001b[0minitial\u001b[0m\u001b[0;34m=\u001b[0m\u001b[0;36m0\u001b[0m\u001b[0;34m)\u001b[0m\u001b[0;34m\u001b[0m\u001b[0;34m\u001b[0m\u001b[0m\n\u001b[0m\u001b[1;32m     19\u001b[0m     \u001b[0mII\u001b[0m \u001b[0;34m=\u001b[0m \u001b[0mintegrate\u001b[0m\u001b[0;34m.\u001b[0m\u001b[0mcumtrapz\u001b[0m\u001b[0;34m(\u001b[0m\u001b[0my2\u001b[0m\u001b[0;34m,\u001b[0m \u001b[0mx2\u001b[0m\u001b[0;34m,\u001b[0m \u001b[0minitial\u001b[0m\u001b[0;34m=\u001b[0m\u001b[0;36m0\u001b[0m\u001b[0;34m)\u001b[0m\u001b[0;34m\u001b[0m\u001b[0;34m\u001b[0m\u001b[0m\n\u001b[1;32m     20\u001b[0m     \u001b[0;31m# Defining Romberg Integral = I(2N) + (I(2N) + I(N))/3\u001b[0m\u001b[0;34m\u001b[0m\u001b[0;34m\u001b[0m\u001b[0;34m\u001b[0m\u001b[0m\n",
      "\u001b[0;31mKeyboardInterrupt\u001b[0m: "
     ]
    }
   ],
   "source": [
    "pltNorm = []\n",
    "pltN = []\n",
    "Accuracy = 1e-3 # Tolerance of the integral\n",
    "ExactII = 0.35507 # Exact answer of the ingral\n",
    "Err = 1.0 # Starting Error for recursive function\n",
    "N = 0 # Step counter\n",
    "\n",
    "# main loop\n",
    "while Err > Accuracy:\n",
    "    # Points for calculating Trap I(N)\n",
    "    x1 = np.linspace(-1, 1, num = 2**N)\n",
    "    # Points for calculating Trap I(2N)\n",
    "    x2 = np.linspace(-1, 1, num = 2**(N+1))\n",
    "    # Evaluating Function at Those points\n",
    "    y1 = F(x1)\n",
    "    y2 = F(x2)\n",
    "    # Calculating Trapezoid for multisteps\n",
    "    I = integrate.cumtrapz(y1, x1, initial=0)\n",
    "    II = integrate.cumtrapz(y2, x2, initial=0)\n",
    "    # Defining Romberg Integral = I(2N) + (I(2N) + I(N))/3\n",
    "    Romberg = ((II[-1] + (II[-1] - I[-1])/3.0))\n",
    "    # Calculating 2-Norm of result\n",
    "    Norm = np.linalg.norm(Romberg-ExactII)\n",
    "    # Printing out the results\n",
    "    print(F\"Step = {2**N}, Romberg = {Romberg}, Norm = {Norm}\")\n",
    "    pltN.append(N)\n",
    "    pltNorm.append(Norm)\n",
    "    # Recursive Steps\n",
    "    Err = Norm\n",
    "    N = N + 1"
   ]
  },
  {
   "cell_type": "markdown",
   "metadata": {},
   "source": [
    "## Results from Romberg module from scipy.integrate"
   ]
  },
  {
   "cell_type": "code",
   "execution_count": 23,
   "metadata": {},
   "outputs": [
    {
     "name": "stdout",
     "output_type": "stream",
     "text": [
      "Romberg integration of <function vectorize1.<locals>.vfunc at 0x7f17cecf7b70> from [-1, 1]\n",
      "\n",
      " Steps  StepSize   Results\n",
      "     1  2.000000  0.735759 \n",
      "     2  1.000000  1.367879  1.578586 \n",
      "     4  0.500000  1.462741  1.494361  1.488746 \n",
      "     8  0.250000  1.485968  1.493711  1.493667  1.493746 \n",
      "    16  0.125000  1.491731  1.493652  1.493648  1.493648  1.493648 \n",
      "    32  0.062500  1.493169  1.493649  1.493648  1.493648  1.493648  1.493648 \n",
      "\n",
      "The final result is 1.493648266788029 after 33 function evaluations.\n",
      "Scipy Romberg = 1.493648266788029\n"
     ]
    }
   ],
   "source": [
    "print(F\"Scipy Romberg = {((integrate.romberg(F, -1, 1, tol=1e-06, rtol=1e-06,divmax=20, show=True,vec_func=True)))}\")"
   ]
  },
  {
   "cell_type": "code",
   "execution_count": null,
   "metadata": {},
   "outputs": [],
   "source": [
    "plt.figure(figsize = (8 , 6))\n",
    "plt.title(\"Error of Romberg Integral Versus Log2 of Steps\")\n",
    "plt.plot(pltN, pltNorm, \"--bo\", label = \"Error vs Steps\")\n",
    "plt.ylabel(\"Error\")\n",
    "plt.xlabel(r\"$Log_2(N)$\")\n",
    "plt.legend(loc = 0)\n",
    "plt.grid(True)\n",
    "plt.show()"
   ]
  },
  {
   "cell_type": "markdown",
   "metadata": {},
   "source": [
    "# Simpson"
   ]
  },
  {
   "cell_type": "code",
   "execution_count": 21,
   "metadata": {},
   "outputs": [],
   "source": [
    "def Simpson(F, a, b, N):\n",
    "    \n",
    "    # Initilizing to Zero\n",
    "    temp1_odd = 0.0\n",
    "    temp1_even = 0.0\n",
    "    Simp1 = 0\n",
    "    # Calculating Odd Terms\n",
    "    for i in range(1, N, 2):\n",
    "        temp1_odd += F(a + i* (b-a)/j)\n",
    "    # Calculating Even Terms\n",
    "    for k in range(2, N-1, 2):\n",
    "        temp1_even += F(a + k* (b-a)/j)\n",
    "\n",
    "        # Calculating Integral\n",
    "\n",
    "        Simp1 = ((b-a)/(3.0 * N)) * (F(a) + F(b) + 4.0 * temp1_odd + 2.0 * temp1_even)\n",
    "    return Simp1"
   ]
  },
  {
   "cell_type": "code",
   "execution_count": 22,
   "metadata": {},
   "outputs": [
    {
     "data": {
      "text/plain": [
       "1.4936482682406362"
      ]
     },
     "execution_count": 22,
     "metadata": {},
     "output_type": "execute_result"
    }
   ],
   "source": [
    "Simpson(F, -1, 1, 100)"
   ]
  },
  {
   "cell_type": "code",
   "execution_count": null,
   "metadata": {},
   "outputs": [],
   "source": []
  }
 ],
 "metadata": {
  "kernelspec": {
   "display_name": "Python 3",
   "language": "python",
   "name": "python3"
  },
  "language_info": {
   "codemirror_mode": {
    "name": "ipython",
    "version": 3
   },
   "file_extension": ".py",
   "mimetype": "text/x-python",
   "name": "python",
   "nbconvert_exporter": "python",
   "pygments_lexer": "ipython3",
   "version": "3.6.9"
  }
 },
 "nbformat": 4,
 "nbformat_minor": 2
}
